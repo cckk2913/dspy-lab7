{
 "cells": [
  {
   "cell_type": "markdown",
   "metadata": {},
   "source": [
    "<mark>以下程式碼是 Google Colab 專用，在本地端 (VScode) 執行會出錯</mark>"
   ]
  },
  {
   "cell_type": "markdown",
   "metadata": {},
   "source": [
    "如何在 Google Colab 上，連結到自己的 Google 雲端硬碟，並讀取硬碟中的檔案："
   ]
  },
  {
   "cell_type": "code",
   "execution_count": null,
   "metadata": {},
   "outputs": [],
   "source": [
    "## connect to gdrive\n",
    "from google.colab import drive\n",
    "drive.mount('/gdrive', force_remount=True)"
   ]
  },
  {
   "cell_type": "code",
   "execution_count": null,
   "metadata": {},
   "outputs": [],
   "source": [
    "# 將目前colab的目錄改為雲端硬碟中的特定資料夾\n",
    "## 這樣才能讀到該資料夾中的檔案\n",
    "\n",
    "%cd /gdrive/My Drive/特定資料夾的名字"
   ]
  },
  {
   "cell_type": "code",
   "execution_count": null,
   "metadata": {},
   "outputs": [],
   "source": [
    "## 這樣就可以讀到該資料夾中的某個檔案\n",
    "data  = pd.read_csv('./某個檔案名.csv')"
   ]
  },
  {
   "cell_type": "markdown",
   "metadata": {},
   "source": [
    "<mark>以下程式碼是 Google Colab 專用，在本地端執行會出錯</mark>\n",
    "\n",
    "在 Colab 使用 matplotlib 畫圖時，如何顯示中文字？"
   ]
  },
  {
   "cell_type": "code",
   "execution_count": null,
   "metadata": {},
   "outputs": [],
   "source": [
    "!pip install matplotlib"
   ]
  },
  {
   "cell_type": "code",
   "execution_count": null,
   "metadata": {},
   "outputs": [],
   "source": [
    "# 下載台北思源黑體 新增字體 font-family設定\n",
    "!wget -O taipei_sans_tc_beta.ttf https://drive.google.com/uc?id=1eGAsTN1HBpJAkeVM57_C7ccp7hbgSz3_&export=download\n",
    "matplotlib.font_manager.fontManager.addfont('taipei_sans_tc_beta.ttf')\n",
    "matplotlib.rc('font', family = 'Taipei Sans TC Beta')"
   ]
  },
  {
   "cell_type": "markdown",
   "metadata": {},
   "source": [
    "<mark>VScode的一些事</mark>\n",
    "\n",
    "- [使用.ipynb](https://code.visualstudio.com/docs/datascience/jupyter-notebooks)\n",
    "  \n",
    "- VScode 之中 .ipynb 的 kernel（右上角`Select Kernel`）是什麼？\n",
    "  \n",
    "  - 在 VScode 中使用 IPython Notebook (ipynb) 檔案時，\"kernel\" 是指Jupyter Kernel。 Jupyter Kernel 是一個計算引擎，它允許你在 ipynb 執行程式碼。 這個 kernel 負責解釋和執行程式碼單元格，並將結果傳回給ipynb。 每個 ipynb 檔案都可以關聯到一個特定的kernel，它確定了程式碼的執行環境，例如Python 3.9、Python 3.10、R、Julia 等。\n",
    "  \n",
    "  - 在 VSCode 中開啟一個.ipynb檔後，在右上角 `Select Kernel` 選擇一個已經安裝的kernel 來執行你的程式碼。VSCode 會與 Jupyter 後端連結，將程式碼傳送給所選的 kernel 執行，然後將執行結果顯示在程式碼cell下方。這個功能讓我們能在 VScode 中靈活使用 .ipynb，因為我們可以選擇不同的kernel 來執行不同的程式語言。"
   ]
  }
 ],
 "metadata": {
  "language_info": {
   "name": "python"
  }
 },
 "nbformat": 4,
 "nbformat_minor": 2
}
