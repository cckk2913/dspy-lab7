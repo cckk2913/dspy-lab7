{
 "cells": [
  {
   "cell_type": "markdown",
   "metadata": {},
   "source": [
    "<mark>以下程式碼是 Google Colab 專用，在本地端 (VScode) 執行會出錯</mark>"
   ]
  },
  {
   "cell_type": "markdown",
   "metadata": {},
   "source": [
    "如何在 Google Colab 上，連結到自己的 Google 雲端硬碟，並讀取硬碟中的檔案："
   ]
  },
  {
   "cell_type": "code",
   "execution_count": null,
   "metadata": {},
   "outputs": [],
   "source": [
    "## connect to gdrive\n",
    "from google.colab import drive\n",
    "drive.mount('/gdrive', force_remount=True)"
   ]
  },
  {
   "cell_type": "code",
   "execution_count": null,
   "metadata": {},
   "outputs": [],
   "source": [
    "# 將目前colab的目錄改為雲端硬碟中的特定資料夾\n",
    "## 這樣才能讀到該資料夾中的檔案\n",
    "\n",
    "%cd /gdrive/My Drive/特定資料夾的名字"
   ]
  },
  {
   "cell_type": "code",
   "execution_count": null,
   "metadata": {},
   "outputs": [],
   "source": [
    "## 這樣就可以讀到該資料夾中的某個檔案\n",
    "data  = pd.read_csv('./某個檔案名.csv')"
   ]
  },
  {
   "cell_type": "markdown",
   "metadata": {},
   "source": [
    "<mark>以下程式碼是 Google Colab 專用，在本地端執行會出錯</mark>\n",
    "\n",
    "在 Colab 使用 matplotlib 畫圖時，如何顯示中文字？"
   ]
  },
  {
   "cell_type": "code",
   "execution_count": null,
   "metadata": {},
   "outputs": [],
   "source": [
    "!pip install matplotlib"
   ]
  },
  {
   "cell_type": "code",
   "execution_count": null,
   "metadata": {},
   "outputs": [],
   "source": [
    "# 下載台北思源黑體 新增字體 font-family設定\n",
    "!wget -O taipei_sans_tc_beta.ttf https://drive.google.com/uc?id=1eGAsTN1HBpJAkeVM57_C7ccp7hbgSz3_&export=download\n",
    "matplotlib.font_manager.fontManager.addfont('taipei_sans_tc_beta.ttf')\n",
    "matplotlib.rc('font', family = 'Taipei Sans TC Beta')"
   ]
  }
 ],
 "metadata": {
  "language_info": {
   "name": "python"
  }
 },
 "nbformat": 4,
 "nbformat_minor": 2
}
